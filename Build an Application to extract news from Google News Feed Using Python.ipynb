{
 "cells": [
  {
   "cell_type": "code",
   "execution_count": 1,
   "metadata": {},
   "outputs": [
    {
     "name": "stdout",
     "output_type": "stream",
     "text": [
      "Collecting python-Levenshtein\n",
      "  Using cached python-Levenshtein-0.12.2.tar.gz (50 kB)\n",
      "Requirement already satisfied: setuptools in c:\\users\\santiago\\anaconda3\\lib\\site-packages (from python-Levenshtein) (49.2.0.post20200714)\n",
      "Building wheels for collected packages: python-Levenshtein\n",
      "  Building wheel for python-Levenshtein (setup.py): started\n",
      "  Building wheel for python-Levenshtein (setup.py): finished with status 'error'\n",
      "  Running setup.py clean for python-Levenshtein\n",
      "Failed to build python-Levenshtein\n",
      "Installing collected packages: python-Levenshtein\n",
      "    Running setup.py install for python-Levenshtein: started\n",
      "    Running setup.py install for python-Levenshtein: finished with status 'error'\n",
      "Note: you may need to restart the kernel to use updated packages.\n"
     ]
    },
    {
     "name": "stderr",
     "output_type": "stream",
     "text": [
      "  ERROR: Command errored out with exit status 1:\n",
      "   command: 'C:\\Users\\Santiago\\anaconda3\\python.exe' -u -c 'import sys, setuptools, tokenize; sys.argv[0] = '\"'\"'C:\\\\Users\\\\Santiago\\\\AppData\\\\Local\\\\Temp\\\\pip-install-hyjd0e1h\\\\python-Levenshtein\\\\setup.py'\"'\"'; __file__='\"'\"'C:\\\\Users\\\\Santiago\\\\AppData\\\\Local\\\\Temp\\\\pip-install-hyjd0e1h\\\\python-Levenshtein\\\\setup.py'\"'\"';f=getattr(tokenize, '\"'\"'open'\"'\"', open)(__file__);code=f.read().replace('\"'\"'\\r\\n'\"'\"', '\"'\"'\\n'\"'\"');f.close();exec(compile(code, __file__, '\"'\"'exec'\"'\"'))' bdist_wheel -d 'C:\\Users\\Santiago\\AppData\\Local\\Temp\\pip-wheel-0skjzzgi'\n",
      "       cwd: C:\\Users\\Santiago\\AppData\\Local\\Temp\\pip-install-hyjd0e1h\\python-Levenshtein\\\n",
      "  Complete output (27 lines):\n",
      "  running bdist_wheel\n",
      "  running build\n",
      "  running build_py\n",
      "  creating build\n",
      "  creating build\\lib.win-amd64-3.8\n",
      "  creating build\\lib.win-amd64-3.8\\Levenshtein\n",
      "  copying Levenshtein\\StringMatcher.py -> build\\lib.win-amd64-3.8\\Levenshtein\n",
      "  copying Levenshtein\\__init__.py -> build\\lib.win-amd64-3.8\\Levenshtein\n",
      "  running egg_info\n",
      "  writing python_Levenshtein.egg-info\\PKG-INFO\n",
      "  writing dependency_links to python_Levenshtein.egg-info\\dependency_links.txt\n",
      "  writing entry points to python_Levenshtein.egg-info\\entry_points.txt\n",
      "  writing namespace_packages to python_Levenshtein.egg-info\\namespace_packages.txt\n",
      "  writing requirements to python_Levenshtein.egg-info\\requires.txt\n",
      "  writing top-level names to python_Levenshtein.egg-info\\top_level.txt\n",
      "  reading manifest file 'python_Levenshtein.egg-info\\SOURCES.txt'\n",
      "  reading manifest template 'MANIFEST.in'\n",
      "  warning: no previously-included files matching '*pyc' found anywhere in distribution\n",
      "  warning: no previously-included files matching '*so' found anywhere in distribution\n",
      "  warning: no previously-included files matching '.project' found anywhere in distribution\n",
      "  warning: no previously-included files matching '.pydevproject' found anywhere in distribution\n",
      "  writing manifest file 'python_Levenshtein.egg-info\\SOURCES.txt'\n",
      "  copying Levenshtein\\_levenshtein.c -> build\\lib.win-amd64-3.8\\Levenshtein\n",
      "  copying Levenshtein\\_levenshtein.h -> build\\lib.win-amd64-3.8\\Levenshtein\n",
      "  running build_ext\n",
      "  building 'Levenshtein._levenshtein' extension\n",
      "  error: Microsoft Visual C++ 14.0 is required. Get it with \"Build Tools for Visual Studio\": https://visualstudio.microsoft.com/downloads/\n",
      "  ----------------------------------------\n",
      "  ERROR: Failed building wheel for python-Levenshtein\n",
      "    ERROR: Command errored out with exit status 1:\n",
      "     command: 'C:\\Users\\Santiago\\anaconda3\\python.exe' -u -c 'import sys, setuptools, tokenize; sys.argv[0] = '\"'\"'C:\\\\Users\\\\Santiago\\\\AppData\\\\Local\\\\Temp\\\\pip-install-hyjd0e1h\\\\python-Levenshtein\\\\setup.py'\"'\"'; __file__='\"'\"'C:\\\\Users\\\\Santiago\\\\AppData\\\\Local\\\\Temp\\\\pip-install-hyjd0e1h\\\\python-Levenshtein\\\\setup.py'\"'\"';f=getattr(tokenize, '\"'\"'open'\"'\"', open)(__file__);code=f.read().replace('\"'\"'\\r\\n'\"'\"', '\"'\"'\\n'\"'\"');f.close();exec(compile(code, __file__, '\"'\"'exec'\"'\"'))' install --record 'C:\\Users\\Santiago\\AppData\\Local\\Temp\\pip-record-ix0386zj\\install-record.txt' --single-version-externally-managed --compile --install-headers 'C:\\Users\\Santiago\\anaconda3\\Include\\python-Levenshtein'\n",
      "         cwd: C:\\Users\\Santiago\\AppData\\Local\\Temp\\pip-install-hyjd0e1h\\python-Levenshtein\\\n",
      "    Complete output (27 lines):\n",
      "    running install\n",
      "    running build\n",
      "    running build_py\n",
      "    creating build\n",
      "    creating build\\lib.win-amd64-3.8\n",
      "    creating build\\lib.win-amd64-3.8\\Levenshtein\n",
      "    copying Levenshtein\\StringMatcher.py -> build\\lib.win-amd64-3.8\\Levenshtein\n",
      "    copying Levenshtein\\__init__.py -> build\\lib.win-amd64-3.8\\Levenshtein\n",
      "    running egg_info\n",
      "    writing python_Levenshtein.egg-info\\PKG-INFO\n",
      "    writing dependency_links to python_Levenshtein.egg-info\\dependency_links.txt\n",
      "    writing entry points to python_Levenshtein.egg-info\\entry_points.txt\n",
      "    writing namespace_packages to python_Levenshtein.egg-info\\namespace_packages.txt\n",
      "    writing requirements to python_Levenshtein.egg-info\\requires.txt\n",
      "    writing top-level names to python_Levenshtein.egg-info\\top_level.txt\n",
      "    reading manifest file 'python_Levenshtein.egg-info\\SOURCES.txt'\n",
      "    reading manifest template 'MANIFEST.in'\n",
      "    warning: no previously-included files matching '*pyc' found anywhere in distribution\n",
      "    warning: no previously-included files matching '*so' found anywhere in distribution\n",
      "    warning: no previously-included files matching '.project' found anywhere in distribution\n",
      "    warning: no previously-included files matching '.pydevproject' found anywhere in distribution\n",
      "    writing manifest file 'python_Levenshtein.egg-info\\SOURCES.txt'\n",
      "    copying Levenshtein\\_levenshtein.c -> build\\lib.win-amd64-3.8\\Levenshtein\n",
      "    copying Levenshtein\\_levenshtein.h -> build\\lib.win-amd64-3.8\\Levenshtein\n",
      "    running build_ext\n",
      "    building 'Levenshtein._levenshtein' extension\n",
      "    error: Microsoft Visual C++ 14.0 is required. Get it with \"Build Tools for Visual Studio\": https://visualstudio.microsoft.com/downloads/\n",
      "    ----------------------------------------\n",
      "ERROR: Command errored out with exit status 1: 'C:\\Users\\Santiago\\anaconda3\\python.exe' -u -c 'import sys, setuptools, tokenize; sys.argv[0] = '\"'\"'C:\\\\Users\\\\Santiago\\\\AppData\\\\Local\\\\Temp\\\\pip-install-hyjd0e1h\\\\python-Levenshtein\\\\setup.py'\"'\"'; __file__='\"'\"'C:\\\\Users\\\\Santiago\\\\AppData\\\\Local\\\\Temp\\\\pip-install-hyjd0e1h\\\\python-Levenshtein\\\\setup.py'\"'\"';f=getattr(tokenize, '\"'\"'open'\"'\"', open)(__file__);code=f.read().replace('\"'\"'\\r\\n'\"'\"', '\"'\"'\\n'\"'\"');f.close();exec(compile(code, __file__, '\"'\"'exec'\"'\"'))' install --record 'C:\\Users\\Santiago\\AppData\\Local\\Temp\\pip-record-ix0386zj\\install-record.txt' --single-version-externally-managed --compile --install-headers 'C:\\Users\\Santiago\\anaconda3\\Include\\python-Levenshtein' Check the logs for full command output.\n"
     ]
    }
   ],
   "source": [
    "pip install python-Levenshtein"
   ]
  },
  {
   "cell_type": "code",
   "execution_count": 2,
   "metadata": {},
   "outputs": [],
   "source": [
    "import pandas as pd"
   ]
  },
  {
   "cell_type": "code",
   "execution_count": 3,
   "metadata": {},
   "outputs": [
    {
     "name": "stdout",
     "output_type": "stream",
     "text": [
      "Requirement already satisfied: gnewsclient in c:\\users\\santiago\\anaconda3\\lib\\site-packages (1.12)\n",
      "Requirement already satisfied: requests in c:\\users\\santiago\\anaconda3\\lib\\site-packages (from gnewsclient) (2.24.0)\n",
      "Requirement already satisfied: feedparser in c:\\users\\santiago\\anaconda3\\lib\\site-packages (from gnewsclient) (6.0.2)\n",
      "Requirement already satisfied: fuzzywuzzy in c:\\users\\santiago\\anaconda3\\lib\\site-packages (from gnewsclient) (0.18.0)\n",
      "Requirement already satisfied: urllib3!=1.25.0,!=1.25.1,<1.26,>=1.21.1 in c:\\users\\santiago\\anaconda3\\lib\\site-packages (from requests->gnewsclient) (1.25.9)\n",
      "Requirement already satisfied: certifi>=2017.4.17 in c:\\users\\santiago\\anaconda3\\lib\\site-packages (from requests->gnewsclient) (2020.6.20)\n",
      "Requirement already satisfied: chardet<4,>=3.0.2 in c:\\users\\santiago\\anaconda3\\lib\\site-packages (from requests->gnewsclient) (3.0.4)\n",
      "Requirement already satisfied: idna<3,>=2.5 in c:\\users\\santiago\\anaconda3\\lib\\site-packages (from requests->gnewsclient) (2.10)\n",
      "Requirement already satisfied: sgmllib3k in c:\\users\\santiago\\anaconda3\\lib\\site-packages (from feedparser->gnewsclient) (1.0.0)\n",
      "Note: you may need to restart the kernel to use updated packages.\n"
     ]
    }
   ],
   "source": [
    "pip install gnewsclient"
   ]
  },
  {
   "cell_type": "code",
   "execution_count": 5,
   "metadata": {},
   "outputs": [
    {
     "name": "stderr",
     "output_type": "stream",
     "text": [
      "C:\\Users\\Santiago\\anaconda3\\lib\\site-packages\\fuzzywuzzy\\fuzz.py:11: UserWarning: Using slow pure-python SequenceMatcher. Install python-Levenshtein to remove this warning\n",
      "  warnings.warn('Using slow pure-python SequenceMatcher. Install python-Levenshtein to remove this warning')\n"
     ]
    },
    {
     "data": {
      "text/plain": [
       "[{'title': 'Petrol-Diesel Prices: पेट्रोल-डीज़ल का भाव जारी, जानिए सोमवार को आपके शहर में क्\\u200dया है नया रेट - TV9 Hindi',\n",
       "  'link': 'https://news.google.com/__i/rss/rd/articles/CBMijAFodHRwczovL3d3dy50djloaW5kaS5jb20vdXRpbGl0eS1uZXdzL3BldHJvbC1hbmQtZGllc2VsLXByaWNlcy10b2RheS1pbi1teS1jaXR5LTE5dGgtYXByaWwtMjAyMS1uZXctZGVsaGktbXVtYmFpLWNoZW5uYWkta29sa2F0YS02MjI5NjEuaHRtbNIBkAFodHRwczovL3d3dy50djloaW5kaS5jb20vdXRpbGl0eS1uZXdzL3BldHJvbC1hbmQtZGllc2VsLXByaWNlcy10b2RheS1pbi1teS1jaXR5LTE5dGgtYXByaWwtMjAyMS1uZXctZGVsaGktbXVtYmFpLWNoZW5uYWkta29sa2F0YS02MjI5NjEuaHRtbC9hbXA?oc=5',\n",
       "  'media': None},\n",
       " {'title': 'Stock Market Today Update: 19 अप्रैल 2021 आज शेयर बाजार की ताजा खबर और व्यापार समाचार - नवभारत टाइम्स',\n",
       "  'link': 'https://news.google.com/__i/rss/rd/articles/CBMimwFodHRwczovL25hdmJoYXJhdHRpbWVzLmluZGlhdGltZXMuY29tL25hdmJoYXJhdGdvbGQvZWNvbm9teS9kYWlseS1zaGFyZS1tYXJrZXQtYnNlLW5zZS1zZW5zZXgtYW5kLWJ1c2luZXNzLW5ld3MtdXBkYXRlcy1vbi0xOS1hcHJpbC0yMDIxL3N0b3J5LzgyMTQ2NzA3LmNtc9IBAA?oc=5',\n",
       "  'media': None},\n",
       " {'title': 'Gold Price Today: सोना हुआ महंगा, चांदी की कीमत भी चढ़ी, जानें क्या हो गए हैं रेट - दैनिक जागरण (Dainik Jagran)',\n",
       "  'link': 'https://news.google.com/__i/rss/rd/articles/CBMieGh0dHBzOi8vd3d3LmphZ3Jhbi5jb20vYnVzaW5lc3MvYml6LWdvbGQtcHJpY2UtdG9kYXktZ29sZC1yYXRlLXJpc2VzLXNpbHZlci1wcmljZS1hbHNvLXNvYXJzLWtub3ctdGhlLXJhdGUtMjE1NzI2MDIuaHRtbNIBe2h0dHBzOi8vbS5qYWdyYW4uY29tL2xpdGUvYnVzaW5lc3MvYml6LWdvbGQtcHJpY2UtdG9kYXktZ29sZC1yYXRlLXJpc2VzLXNpbHZlci1wcmljZS1hbHNvLXNvYXJzLWtub3ctdGhlLXJhdGUtMjE1NzI2MDIuaHRtbA?oc=5',\n",
       "  'media': None},\n",
       " {'title': 'बुलेट से महंगी हो गई Bajaj Chetak स्कूटी, दोबारा शुरू हुई बुकिंग 48 घंटे में ही बंद - आज तक',\n",
       "  'link': 'https://news.google.com/__i/rss/rd/articles/CBMifmh0dHBzOi8vd3d3LmFhanRhay5pbi9hdXRvL25ld3MvcGhvdG8vYm90aC1iYWphai1jaGV0YWstZWxlY3RyaWMtc2Nvb3Rlci11cmJhbmUtYW5kLXByZW1pdW0tcHJpY2UtaGlrZS10dXRvLTEyNDA3ODAtMjAyMS0wNC0xONIBggFodHRwczovL3d3dy5hYWp0YWsuaW4vYW1wL2F1dG8vbmV3cy9waG90by9ib3RoLWJhamFqLWNoZXRhay1lbGVjdHJpYy1zY29vdGVyLXVyYmFuZS1hbmQtcHJlbWl1bS1wcmljZS1oaWtlLXR1dG8tMTI0MDc4MC0yMDIxLTA0LTE4?oc=5',\n",
       "  'media': None},\n",
       " {'title': 'Nissan Magnite की इतनी जबरदस्त हुई बुकिंग, कंपनी को उठाना पड़ा ये कदम - News18 हिंदी',\n",
       "  'link': 'https://news.google.com/__i/rss/rd/articles/CBMihQFodHRwczovL2hpbmRpLm5ld3MxOC5jb20vbmV3cy9hdXRvL2Jvb2tpbmctb2Ytbmlzc2FuLW1hZ25pdGUtd2FzLXNvLXRyZW1lbmRvdXMtdGhlLWNvbXBhbnktaGFkLXRvLXRha2UtdGhlc2Utc3RlcHMta2FubmQtMzU2MzE1MS5odG1s0gGJAWh0dHBzOi8vaGluZGkubmV3czE4LmNvbS9hbXAvbmV3cy9hdXRvL2Jvb2tpbmctb2Ytbmlzc2FuLW1hZ25pdGUtd2FzLXNvLXRyZW1lbmRvdXMtdGhlLWNvbXBhbnktaGFkLXRvLXRha2UtdGhlc2Utc3RlcHMta2FubmQtMzU2MzE1MS5odG1s?oc=5',\n",
       "  'media': None}]"
      ]
     },
     "execution_count": 5,
     "metadata": {},
     "output_type": "execute_result"
    }
   ],
   "source": [
    "# import module\n",
    "from gnewsclient import gnewsclient\n",
    "\n",
    "# declare a NewsClient object\n",
    "client = gnewsclient.NewsClient(language='hindi', location='india', topic='Business', max_results=5)\n",
    "\n",
    "# get news feed\n",
    "client.get_news()"
   ]
  },
  {
   "cell_type": "code",
   "execution_count": 4,
   "metadata": {},
   "outputs": [
    {
     "name": "stdout",
     "output_type": "stream",
     "text": [
      "Location: \n",
      " ['Australia', 'Botswana', 'Canada ', 'Ethiopia', 'Ghana', 'India ', 'Indonesia', 'Ireland', 'Israel ', 'Kenya', 'Latvia', 'Malaysia', 'Namibia', 'New Zealand', 'Nigeria', 'Pakistan', 'Philippines', 'Singapore', 'South Africa', 'Tanzania', 'Uganda', 'United Kingdom', 'United States', 'Zimbabwe', 'Czech Republic', 'Germany', 'Austria', 'Switzerland', 'Argentina', 'Chile', 'Colombia', 'Cuba', 'Mexico', 'Peru', 'Venezuela', 'Belgium ', 'France', 'Morocco', 'Senegal', 'Italy', 'Lithuania', 'Hungary', 'Netherlands', 'Norway', 'Poland', 'Brazil', 'Portugal', 'Romania', 'Slovakia', 'Slovenia', 'Sweden', 'Vietnam', 'Turkey', 'Greece', 'Bulgaria', 'Russia', 'Ukraine ', 'Serbia', 'United Arab Emirates', 'Saudi Arabia', 'Lebanon', 'Egypt', 'Bangladesh', 'Thailand', 'China', 'Taiwan', 'Hong Kong', 'Japan', 'Republic of Korea']\n",
      "\n",
      "Language \n",
      " ['english', 'indonesian', 'czech', 'german', 'spanish', 'french', 'italian', 'latvian', 'lithuanian', 'hungarian', 'dutch', 'norwegian', 'polish', 'portuguese brasil', 'portuguese portugal', 'romanian', 'slovak', 'slovenian', 'swedish', 'vietnamese', 'turkish', 'greek', 'bulgarian', 'russian', 'serbian', 'ukrainian', 'hebrew', 'arabic', 'marathi', 'hindi', 'bengali', 'tamil', 'telugu', 'malyalam', 'thai', 'chinese simplified', 'chinese traditional', 'japanese', 'korean']\n",
      "\n",
      "Topic \n",
      " ['Top Stories', 'World', 'Nation', 'Business', 'Technology', 'Entertainment', 'Sports', 'Science', 'Health']\n"
     ]
    },
    {
     "name": "stderr",
     "output_type": "stream",
     "text": [
      "C:\\Users\\Santiago\\anaconda3\\lib\\site-packages\\fuzzywuzzy\\fuzz.py:11: UserWarning: Using slow pure-python SequenceMatcher. Install python-Levenshtein to remove this warning\n",
      "  warnings.warn('Using slow pure-python SequenceMatcher. Install python-Levenshtein to remove this warning')\n"
     ]
    }
   ],
   "source": [
    "import gnewsclient\n",
    "from gnewsclient import gnewsclient\n",
    "\n",
    "client = gnewsclient.NewsClient(language='spanish',\n",
    "\t\t\t\t\t\t\t\tlocation='argentina',\n",
    "\t\t\t\t\t\t\t\ttopic='world',\n",
    "\t\t\t\t\t\t\t\tmax_results=10)\n",
    "\n",
    "# prints location\n",
    "print(\"Location: \\n\",client.locations)\n",
    "print()\n",
    "\n",
    "# prints languages\n",
    "print(\"Language \\n\",client.languages)\n",
    "print()\n",
    "\n",
    "# prints topics\n",
    "print(\"Topic \\n\",client.topics)"
   ]
  },
  {
   "cell_type": "code",
   "execution_count": 5,
   "metadata": {},
   "outputs": [
    {
     "name": "stdout",
     "output_type": "stream",
     "text": [
      "Title :  Estados Unidos ampliará las recomendaciones de “no viajar” al 80% de los países del mundo por la pandemia de coronavirus - infobae\n",
      "Link :  https://news.google.com/__i/rss/rd/articles/CBMipgFodHRwczovL3d3dy5pbmZvYmFlLmNvbS9hbWVyaWNhL2VldXUvMjAyMS8wNC8yMC9lc3RhZG9zLXVuaWRvcy1hbXBsaWFyYS1sYXMtcmVjb21lbmRhY2lvbmVzLWRlLW5vLXZpYWphci1hbC04MC1kZS1sb3MtcGFpc2VzLWRlbC1tdW5kby1wb3ItbGEtcGFuZGVtaWEtZGUtY29yb25hdmlydXMv0gEA?oc=5\n",
      "\n",
      "Title :  La nueva vida de Donald Trump, entre su club de golf, la actividad política y una activa participación en las redes - Clarín\n",
      "Link :  https://news.google.com/__i/rss/rd/articles/CBMif2h0dHBzOi8vd3d3LmNsYXJpbi5jb20vbXVuZG8vbnVldmEtdmlkYS1kb25hbGQtdHJ1bXAtLWNsdWItZ29sZi0tYWN0aXZpZGFkLXBvbGl0aWNhLWFjdGl2YS1wYXJ0aWNpcGFjaW9uLXJlZGVzXzBfR1NSSVlKbDVXLmh0bWzSAQA?oc=5\n",
      "\n",
      "Title :  ¿Cuba sin un Castro? La isla se sumerge en lo desconocido - LA NACION\n",
      "Link :  https://news.google.com/__i/rss/rd/articles/CBMiaWh0dHBzOi8vd3d3LmxhbmFjaW9uLmNvbS5hci9lbC1tdW5kby9jdWJhLXNpbi11bi1jYXN0cm8tbGEtaXNsYS1zZS1zdW1lcmdlLWVuLWxvLWRlc2Nvbm9jaWRvLW5pZDIwMDQyMDIxL9IBAA?oc=5\n",
      "\n",
      "Title :  El presidente de Chad murió en medio de un combate contra los rebeldes: llevaba más de 30 años en el poder - infobae\n",
      "Link :  https://news.google.com/__i/rss/rd/articles/CBMimwFodHRwczovL3d3dy5pbmZvYmFlLmNvbS9hbWVyaWNhL211bmRvLzIwMjEvMDQvMjAvZWwtcHJlc2lkZW50ZS1kZS1jaGFkLW11cmlvLWVuLW1lZGlvLWRlLXVuLWNvbWJhdGUtY29udHJhLWxvcy1yZWJlbGRlcy1sbGV2YWJhLW1hcy1kZS0zMC1hbm9zLWVuLWVsLXBvZGVyL9IBAA?oc=5\n",
      "\n",
      "Title :  El jurado empieza a deliberar en el caso de George Floyd - Página 12\n",
      "Link :  https://news.google.com/__i/rss/rd/articles/CBMiW2h0dHBzOi8vd3d3LnBhZ2luYTEyLmNvbS5hci8zMzY2NTEtZWwtanVyYWRvLWVtcGllemEtYS1kZWxpYmVyYXItZW4tZWwtY2Fzby1kZS1nZW9yZ2UtZmxveWTSAVtodHRwczovL3d3dy5wYWdpbmExMi5jb20uYXIvMzM2NjUxLWVsLWp1cmFkby1lbXBpZXphLWEtZGVsaWJlcmFyLWVuLWVsLWNhc28tZGUtZ2VvcmdlLWZsb3lk?oc=5\n",
      "\n",
      "Title :  Pedro Castillo arranca como favorito para el ballottage en Perú - Página 12\n",
      "Link :  https://news.google.com/__i/rss/rd/articles/CBMiX2h0dHBzOi8vd3d3LnBhZ2luYTEyLmNvbS5hci8zMzY2OTMtcGVkcm8tY2FzdGlsbG8tYXJyYW5jYS1jb21vLWZhdm9yaXRvLXBhcmEtZWwtYmFsbG90dGFnZS1lbi1w0gFfaHR0cHM6Ly93d3cucGFnaW5hMTIuY29tLmFyLzMzNjY5My1wZWRyby1jYXN0aWxsby1hcnJhbmNhLWNvbW8tZmF2b3JpdG8tcGFyYS1lbC1iYWxsb3R0YWdlLWVuLXA?oc=5\n",
      "\n",
      "Title :  EE.UU. advierte a Rusia que \"habrá consecuencias\" si Alexéi Navalni muere - Perfil.com\n",
      "Link :  https://news.google.com/__i/rss/rd/articles/CBMieWh0dHBzOi8vd3d3LnBlcmZpbC5jb20vbm90aWNpYXMvaW50ZXJuYWNpb25hbC9lZXV1LWFkdmllcnRlLWEtcnVzaWEtcXVlLWhhYnJhLWNvbnNlY3VlbmNpYXMtc2ktYWxleGVpLW5hdmFsbmktbXVlcmUucGh0bWzSAQA?oc=5\n",
      "\n",
      "Title :  Qué significa 420: la historia del número que se transformó en el código secreto de la marihuana - infobae\n",
      "Link :  https://news.google.com/__i/rss/rd/articles/CBMijAFodHRwczovL3d3dy5pbmZvYmFlLmNvbS9zb2NpZWRhZC8yMDIxLzA0LzIwL3F1ZS1zaWduaWZpY2EtNDIwLWxhLWhpc3RvcmlhLWRlbC1udW1lcm8tcXVlLXNlLXRyYW5zZm9ybW8tZW4tZWwtY29kaWdvLXNlY3JldG8tZGUtbGEtbWFyaWh1YW5hL9IBAA?oc=5\n",
      "\n",
      "Title :  EEUU denunció que Rusia tiene la mayor acumulación militar en Ucrania desde 2014 - infobae\n",
      "Link :  https://news.google.com/__i/rss/rd/articles/CBMiggFodHRwczovL3d3dy5pbmZvYmFlLmNvbS9hbWVyaWNhL211bmRvLzIwMjEvMDQvMjAvZWV1dS1kZW51bmNpby1xdWUtcnVzaWEtdGllbmUtbGEtbWF5b3ItYWN1bXVsYWNpb24tbWlsaXRhci1lbi11Y3JhbmlhLWRlc2RlLTIwMTQv0gEA?oc=5\n",
      "\n",
      "Title :  Bolsonaro dijo que el pueblo brasileño merece sufrir si elige a Lula presidente en 2022 - Télam\n",
      "Link :  https://news.google.com/__i/rss/rd/articles/CBMiiQFodHRwczovL3d3dy50ZWxhbS5jb20uYXIvbm90YXMvMjAyMTA0LzU1MTI4My1ib2xzb25hcm8tZGljZS1xdWUtZWwtcHVlYmxvLWJyYXNpbGVuby1tZXJlY2Utc3VmcmlyLXNpLWVsaWdlLWEtbHVsYS1wcmVzaWRlbnRlLWVuLTIwMjIuaHRtbNIBAA?oc=5\n",
      "\n"
     ]
    }
   ],
   "source": [
    "from gnewsclient import gnewsclient\n",
    "\n",
    "# correr a la mañana, 9AM ejemplo.\n",
    "client = gnewsclient.NewsClient(language='spanish',\n",
    "\t\t\t\t\t\t\t\tlocation='argentina',\n",
    "\t\t\t\t\t\t\t\ttopic='world',\n",
    "\t\t\t\t\t\t\t\tmax_results=10)\n",
    "\n",
    "news_listworld = client.get_news()\n",
    "\n",
    "for item in news_listworld:\n",
    "\tprint(\"Title : \", item['title'])\n",
    "\tprint(\"Link : \", item['link'])\n",
    "\tprint(\"\")"
   ]
  },
  {
   "cell_type": "code",
   "execution_count": 6,
   "metadata": {},
   "outputs": [],
   "source": [
    "dfworld1 = pd.DataFrame(news_listworld)"
   ]
  },
  {
   "cell_type": "code",
   "execution_count": 7,
   "metadata": {},
   "outputs": [
    {
     "data": {
      "text/html": [
       "<div>\n",
       "<style scoped>\n",
       "    .dataframe tbody tr th:only-of-type {\n",
       "        vertical-align: middle;\n",
       "    }\n",
       "\n",
       "    .dataframe tbody tr th {\n",
       "        vertical-align: top;\n",
       "    }\n",
       "\n",
       "    .dataframe thead th {\n",
       "        text-align: right;\n",
       "    }\n",
       "</style>\n",
       "<table border=\"1\" class=\"dataframe\">\n",
       "  <thead>\n",
       "    <tr style=\"text-align: right;\">\n",
       "      <th></th>\n",
       "      <th>title</th>\n",
       "      <th>link</th>\n",
       "      <th>media</th>\n",
       "    </tr>\n",
       "  </thead>\n",
       "  <tbody>\n",
       "    <tr>\n",
       "      <th>0</th>\n",
       "      <td>Estados Unidos ampliará las recomendaciones de...</td>\n",
       "      <td>https://news.google.com/__i/rss/rd/articles/CB...</td>\n",
       "      <td>None</td>\n",
       "    </tr>\n",
       "    <tr>\n",
       "      <th>1</th>\n",
       "      <td>La nueva vida de Donald Trump, entre su club d...</td>\n",
       "      <td>https://news.google.com/__i/rss/rd/articles/CB...</td>\n",
       "      <td>None</td>\n",
       "    </tr>\n",
       "    <tr>\n",
       "      <th>2</th>\n",
       "      <td>¿Cuba sin un Castro? La isla se sumerge en lo ...</td>\n",
       "      <td>https://news.google.com/__i/rss/rd/articles/CB...</td>\n",
       "      <td>None</td>\n",
       "    </tr>\n",
       "    <tr>\n",
       "      <th>3</th>\n",
       "      <td>El presidente de Chad murió en medio de un com...</td>\n",
       "      <td>https://news.google.com/__i/rss/rd/articles/CB...</td>\n",
       "      <td>None</td>\n",
       "    </tr>\n",
       "    <tr>\n",
       "      <th>4</th>\n",
       "      <td>El jurado empieza a deliberar en el caso de Ge...</td>\n",
       "      <td>https://news.google.com/__i/rss/rd/articles/CB...</td>\n",
       "      <td>None</td>\n",
       "    </tr>\n",
       "    <tr>\n",
       "      <th>5</th>\n",
       "      <td>Pedro Castillo arranca como favorito para el b...</td>\n",
       "      <td>https://news.google.com/__i/rss/rd/articles/CB...</td>\n",
       "      <td>None</td>\n",
       "    </tr>\n",
       "    <tr>\n",
       "      <th>6</th>\n",
       "      <td>EE.UU. advierte a Rusia que \"habrá consecuenci...</td>\n",
       "      <td>https://news.google.com/__i/rss/rd/articles/CB...</td>\n",
       "      <td>None</td>\n",
       "    </tr>\n",
       "    <tr>\n",
       "      <th>7</th>\n",
       "      <td>Qué significa 420: la historia del número que ...</td>\n",
       "      <td>https://news.google.com/__i/rss/rd/articles/CB...</td>\n",
       "      <td>None</td>\n",
       "    </tr>\n",
       "    <tr>\n",
       "      <th>8</th>\n",
       "      <td>EEUU denunció que Rusia tiene la mayor acumula...</td>\n",
       "      <td>https://news.google.com/__i/rss/rd/articles/CB...</td>\n",
       "      <td>None</td>\n",
       "    </tr>\n",
       "    <tr>\n",
       "      <th>9</th>\n",
       "      <td>Bolsonaro dijo que el pueblo brasileño merece ...</td>\n",
       "      <td>https://news.google.com/__i/rss/rd/articles/CB...</td>\n",
       "      <td>None</td>\n",
       "    </tr>\n",
       "  </tbody>\n",
       "</table>\n",
       "</div>"
      ],
      "text/plain": [
       "                                               title  \\\n",
       "0  Estados Unidos ampliará las recomendaciones de...   \n",
       "1  La nueva vida de Donald Trump, entre su club d...   \n",
       "2  ¿Cuba sin un Castro? La isla se sumerge en lo ...   \n",
       "3  El presidente de Chad murió en medio de un com...   \n",
       "4  El jurado empieza a deliberar en el caso de Ge...   \n",
       "5  Pedro Castillo arranca como favorito para el b...   \n",
       "6  EE.UU. advierte a Rusia que \"habrá consecuenci...   \n",
       "7  Qué significa 420: la historia del número que ...   \n",
       "8  EEUU denunció que Rusia tiene la mayor acumula...   \n",
       "9  Bolsonaro dijo que el pueblo brasileño merece ...   \n",
       "\n",
       "                                                link media  \n",
       "0  https://news.google.com/__i/rss/rd/articles/CB...  None  \n",
       "1  https://news.google.com/__i/rss/rd/articles/CB...  None  \n",
       "2  https://news.google.com/__i/rss/rd/articles/CB...  None  \n",
       "3  https://news.google.com/__i/rss/rd/articles/CB...  None  \n",
       "4  https://news.google.com/__i/rss/rd/articles/CB...  None  \n",
       "5  https://news.google.com/__i/rss/rd/articles/CB...  None  \n",
       "6  https://news.google.com/__i/rss/rd/articles/CB...  None  \n",
       "7  https://news.google.com/__i/rss/rd/articles/CB...  None  \n",
       "8  https://news.google.com/__i/rss/rd/articles/CB...  None  \n",
       "9  https://news.google.com/__i/rss/rd/articles/CB...  None  "
      ]
     },
     "execution_count": 7,
     "metadata": {},
     "output_type": "execute_result"
    }
   ],
   "source": [
    "dfworld1.head(10)"
   ]
  },
  {
   "cell_type": "code",
   "execution_count": 8,
   "metadata": {},
   "outputs": [
    {
     "name": "stdout",
     "output_type": "stream",
     "text": [
      "Title :  Rodríguez Larreta, contra el Presidente: “Ojalá nos hubieran dado dosis más rápido y ya estarían todos los maestros vacunados” - infobae\n",
      "Link :  https://news.google.com/__i/rss/rd/articles/CBMijAFodHRwczovL3d3dy5pbmZvYmFlLmNvbS9wb2xpdGljYS8yMDIxLzA0LzIwL3JvZHJpZ3Vlei1sYXJyZXRhLXJlc3BvbnNhYmlsaXpvLWFsLWdvYmllcm5vLW5hY2lvbmFsLXBvci1sYS1mYWx0YS1kZS12YWN1bmFzLXBhcmEtbG9zLWRvY2VudGVzL9IBAA?oc=5\n",
      "\n",
      "Title :  Mar del Plata pasa a fase 3 y suma nuevas restricciones - La Capital de Mar del Plata\n",
      "Link :  https://news.google.com/__i/rss/rd/articles/CBMiVWh0dHBzOi8vd3d3LmxhY2FwaXRhbG1kcC5jb20vbWFyLWRlbC1wbGF0YS1wYXNhLWEtZmFzZS0zLXktc3VtYS1udWV2YXMtcmVzdHJpY2Npb25lcy_SAVlodHRwczovL3d3dy5sYWNhcGl0YWxtZHAuY29tL21hci1kZWwtcGxhdGEtcGFzYS1hLWZhc2UtMy15LXN1bWEtbnVldmFzLXJlc3RyaWNjaW9uZXMvYW1wLw?oc=5\n",
      "\n",
      "Title :  “Es probable que las restricciones se tengan que extender”, reconoció un funcionario del Ministerio de Salud - infobae\n",
      "Link :  https://news.google.com/__i/rss/rd/articles/CBMilgFodHRwczovL3d3dy5pbmZvYmFlLmNvbS9wb2xpdGljYS8yMDIxLzA0LzIwL2VzLXByb2JhYmxlLXF1ZS1sYXMtcmVzdHJpY2Npb25lcy1zZS10ZW5nYW4tcXVlLWV4dGVuZGVyLXJlY29ub2Npby11bi1mdW5jaW9uYXJpby1kZWwtbWluaXN0ZXJpby1kZS1zYWx1ZC_SAQA?oc=5\n",
      "\n",
      "Title :  El polémico tuit de Roberto Baradel, que comparó a Patricia Bullrich con Videla - LA NACION\n",
      "Link :  https://news.google.com/__i/rss/rd/articles/CBMigAFodHRwczovL3d3dy5sYW5hY2lvbi5jb20uYXIvcG9saXRpY2EvZWwtcG9sZW1pY28tdHVpdC1kZS1yb2JlcnRvLWJhcmFkZWwtcXVlLWNvbXBhcm8tYS1wYXRyaWNpYS1idWxscmljaC1jb24tdmlkZWxhLW5pZDIwMDQyMDIxL9IBAA?oc=5\n",
      "\n",
      "Title :  Vacunación en la Ciudad: comienza la inscripción para los mayores de 65 años - El Cronista\n",
      "Link :  https://news.google.com/__i/rss/rd/articles/CBMidGh0dHBzOi8vd3d3LmNyb25pc3RhLmNvbS9pbmZvcm1hY2lvbi1ncmFsL3ZhY3VuYWNpb24tY292aWQtY2FiYS1jb21pZW56YS1sYS1pbnNjcmlwY2lvbi1wYXJhLWxvcy1tYXlvcmVzLWRlLTY1LWFub3Mv0gF0aHR0cHM6Ly93d3cuY3JvbmlzdGEuY29tL2luZm9ybWFjaW9uLWdyYWwvdmFjdW5hY2lvbi1jb3ZpZC1jYWJhLWNvbWllbnphLWxhLWluc2NyaXBjaW9uLXBhcmEtbG9zLW1heW9yZXMtZGUtNjUtYW5vcy8?oc=5\n",
      "\n",
      "Title :  Fernández presenta un programa de créditos para refacción y construcción de viviendas - Télam\n",
      "Link :  https://news.google.com/__i/rss/rd/articles/CBMid2h0dHBzOi8vd3d3LnRlbGFtLmNvbS5hci9ub3Rhcy8yMDIxMDQvNTUxMzU5LWFsYmVydG8tZmVybmFuZGV6LWNyZWRpdG9zLXBhcmEtcmVmYWNjaW9uLXktY29uc3RydWNjaW9uLWRlLXZpdmllbmRhcy5odG1s0gEA?oc=5\n",
      "\n",
      "Title :  COVID: más de 20 mil casos, 248 muertos y 4.304 internados en terapia intensiva - Perfil.com\n",
      "Link :  https://news.google.com/__i/rss/rd/articles/CBMidmh0dHBzOi8vd3d3LnBlcmZpbC5jb20vbm90aWNpYXMvY29yb25hdmlydXMvY292aWQtbWFzLTIwLW1pbC1jYXNvcy0yNDgtbXVlcnRvcy00MzA0LWludGVybmFkb3MtdGVyYXBpYS1pbnRlbnNpdmEucGh0bWzSAQA?oc=5\n",
      "\n",
      "Title :  Más vuelos, más vacunas, más vacunación - Página 12\n",
      "Link :  https://news.google.com/__i/rss/rd/articles/CBMiSGh0dHBzOi8vd3d3LnBhZ2luYTEyLmNvbS5hci8zMzY2ODAtbWFzLXZ1ZWxvcy1tYXMtdmFjdW5hcy1tYXMtdmFjdW5hY2lvbtIBSGh0dHBzOi8vd3d3LnBhZ2luYTEyLmNvbS5hci8zMzY2ODAtbWFzLXZ1ZWxvcy1tYXMtdmFjdW5hcy1tYXMtdmFjdW5hY2lvbg?oc=5\n",
      "\n",
      "Title :  Abrieron las escuelas y los alumnos tienen clases presenciales: los docentes llamaron al paro - Minutouno.com\n",
      "Link :  https://news.google.com/__i/rss/rd/articles/CBMiiAFodHRwczovL3d3dy5taW51dG91bm8uY29tL3BvbGl0aWNhL2NsYXNlcy1wcmVzZW5jaWFsZXMvYWJyaWVyb24tbGFzLWVzY3VlbGFzLXktbG9zLWFsdW1ub3MtdGllbmVuLWxvcy1kb2NlbnRlcy1sbGFtYXJvbi1hbC1wYXJvLW41MTg1NTc50gGIAWh0dHBzOi8vd3d3Lm1pbnV0b3Vuby5jb20vcG9saXRpY2EvY2xhc2VzLXByZXNlbmNpYWxlcy9hYnJpZXJvbi1sYXMtZXNjdWVsYXMteS1sb3MtYWx1bW5vcy10aWVuZW4tbG9zLWRvY2VudGVzLWxsYW1hcm9uLWFsLXBhcm8tbjUxODU1Nzk?oc=5\n",
      "\n",
      "Title :  Los cinco mensajes del FMI a la Argentina - LA NACION\n",
      "Link :  https://news.google.com/__i/rss/rd/articles/CBMiW2h0dHBzOi8vd3d3LmxhbmFjaW9uLmNvbS5hci9lY29ub21pYS9sb3MtY2luY28tbWVuc2FqZXMtZGVsLWZtaS1hLWxhLWFyZ2VudGluYS1uaWQxOTA0MjAyMS_SAQA?oc=5\n",
      "\n"
     ]
    }
   ],
   "source": [
    "from gnewsclient import gnewsclient\n",
    "\n",
    "# correr a la mañana, 9AM ejemplo, la siguiente sección...\n",
    "client = gnewsclient.NewsClient(language='spanish',\n",
    "\t\t\t\t\t\t\t\tlocation='argentina',\n",
    "\t\t\t\t\t\t\t\ttopic='nation',\n",
    "\t\t\t\t\t\t\t\tmax_results=10)\n",
    "\n",
    "news_listnation = client.get_news()\n",
    "\n",
    "for item in news_listnation:\n",
    "\tprint(\"Title : \", item['title'])\n",
    "\tprint(\"Link : \", item['link'])\n",
    "\tprint(\"\")"
   ]
  },
  {
   "cell_type": "code",
   "execution_count": 16,
   "metadata": {},
   "outputs": [],
   "source": [
    "dfnation1 = pd.DataFrame(news_listnation)"
   ]
  },
  {
   "cell_type": "code",
   "execution_count": 9,
   "metadata": {},
   "outputs": [
    {
     "name": "stdout",
     "output_type": "stream",
     "text": [
      "Title :  Más viento de cola: la cotización internacional de la soja se dispara a su máximo nivel en 7 años por mayor demanda de China - infobae\n",
      "Link :  https://news.google.com/__i/rss/rd/articles/CBMimQFodHRwczovL3d3dy5pbmZvYmFlLmNvbS9lY29ub21pYS8yMDIxLzA0LzIwL21hcy12aWVudG8tZGUtY29sYS1sYS1jb3RpemFjaW9uLWRlLWxhLXNvamEtc2UtZGlzcGFyYS1hLXN1LW1heW9yLW5pdmVsLWVuLTctYW5vcy1wb3ItbWF5b3ItZGVtYW5kYS1kZS1jaGluYS_SAQA?oc=5\n",
      "\n",
      "Title :  Sigue el éxodo: otra conocida marca de ropa deportiva se va de la Argentina - infobae\n",
      "Link :  https://news.google.com/__i/rss/rd/articles/CBMid2h0dHBzOi8vd3d3LmluZm9iYWUuY29tL2Vjb25vbWlhLzIwMjEvMDQvMjAvc2lndWUtZWwtZXhvZG8tb3RyYS1jb25vY2lkYS1tYXJjYS1kZS1yb3BhLWRlcG9ydGl2YS1zZS12YS1kZS1sYS1hcmdlbnRpbmEv0gEA?oc=5\n",
      "\n",
      "Title :  Cedears: cuáles son las empresas extranjeras que más subieron y bajaron en la bolsa porteña - ámbito.com\n",
      "Link :  https://news.google.com/__i/rss/rd/articles/CBMigAFodHRwczovL3d3dy5hbWJpdG8uY29tL2ZpbmFuemFzL2NlZGVhcnMvY3VhbGVzLXNvbi1sYXMtZW1wcmVzYXMtZXh0cmFuamVyYXMtcXVlLW1hcy1zdWJpZXJvbi15LWJhamFyb24tbGEtYm9sc2EtcG9ydGVuYS1uNTE4NTY5ONIBgAFodHRwczovL3d3dy5hbWJpdG8uY29tL2ZpbmFuemFzL2NlZGVhcnMvY3VhbGVzLXNvbi1sYXMtZW1wcmVzYXMtZXh0cmFuamVyYXMtcXVlLW1hcy1zdWJpZXJvbi15LWJhamFyb24tbGEtYm9sc2EtcG9ydGVuYS1uNTE4NTY5OA?oc=5\n",
      "\n",
      "Title :  Qué se sabe del accidente del auto Tesla sin conductor - Página 12\n",
      "Link :  https://news.google.com/__i/rss/rd/articles/CBMiWWh0dHBzOi8vd3d3LnBhZ2luYTEyLmNvbS5hci8zMzY3NDYtcXVlLXNlLXNhYmUtZGVsLWFjY2lkZW50ZS1kZWwtYXV0by10ZXNsYS1zaW4tY29uZHVjdG9y0gFZaHR0cHM6Ly93d3cucGFnaW5hMTIuY29tLmFyLzMzNjc0Ni1xdWUtc2Utc2FiZS1kZWwtYWNjaWRlbnRlLWRlbC1hdXRvLXRlc2xhLXNpbi1jb25kdWN0b3I?oc=5\n",
      "\n",
      "Title :  Audi presenta el concepto de A6 e-tron, un espectacular sedan eléctrico para el 2022 - Gizmodo en Español\n",
      "Link :  https://news.google.com/__i/rss/rd/articles/CBMiWGh0dHBzOi8vZXMuZ2l6bW9kby5jb20vYXVkaS1wcmVzZW50YS1lbC1jb25jZXB0by1kZS1hNi1lLXRyb24tdW4tZXNwZWN0YWN1bGFyLTE4NDY3MTE2NDnSAVxodHRwczovL2VzLmdpem1vZG8uY29tL2F1ZGktcHJlc2VudGEtZWwtY29uY2VwdG8tZGUtYTYtZS10cm9uLXVuLWVzcGVjdGFjdWxhci0xODQ2NzExNjQ5L2FtcA?oc=5\n",
      "\n",
      "Title :  El precio del bitcoin, en sube y baja - ámbito.com\n",
      "Link :  https://news.google.com/__i/rss/rd/articles/CBMiSmh0dHBzOi8vd3d3LmFtYml0by5jb20vZmluYW56YXMvYml0Y29pbi9lbC1wcmVjaW8tZGVsLXN1YmUteS1iYWphLW41MTg1ODky0gFKaHR0cHM6Ly93d3cuYW1iaXRvLmNvbS9maW5hbnphcy9iaXRjb2luL2VsLXByZWNpby1kZWwtc3ViZS15LWJhamEtbjUxODU4OTI?oc=5\n",
      "\n",
      "Title :  Dolar hoy: cuál es el precio de la moneda el 19 de abril - LA NACION\n",
      "Link :  https://news.google.com/__i/rss/rd/articles/CBMic2h0dHBzOi8vd3d3LmxhbmFjaW9uLmNvbS5hci9lY29ub21pYS9wYWJsby10ZXN0ZG9sYXItaG95LWN1YWwtZXMtZWwtcHJlY2lvLWRlLWxhLW1vbmVkYS1lbC0xOS1kZS1hYnJpbC1uaWQxOTA0MjAyMS_SAYIBaHR0cHM6Ly93d3cubGFuYWNpb24uY29tLmFyL2Vjb25vbWlhL3BhYmxvLXRlc3Rkb2xhci1ob3ktY3VhbC1lcy1lbC1wcmVjaW8tZGUtbGEtbW9uZWRhLWVsLTE5LWRlLWFicmlsLW5pZDE5MDQyMDIxLz9vdXRwdXRUeXBlPWFtcA?oc=5\n",
      "\n",
      "Title :  Fiebre Bitcoin: los argentinos abrieron al menos 2 millones de cuentas para operar con criptomonedas - infobae\n",
      "Link :  https://news.google.com/__i/rss/rd/articles/CBMiigFodHRwczovL3d3dy5pbmZvYmFlLmNvbS9lY29ub21pYS8yMDIxLzA0LzIwL2ZpZWJyZS1iaXRjb2luLWxvcy1hcmdlbnRpbm9zLXlhLWFicmllcm9uLTItbWlsbG9uZXMtZGUtY3VlbnRhcy1wYXJhLW9wZXJhci1jb24tY3JpcHRvbW9uZWRhcy_SAQA?oc=5\n",
      "\n",
      "Title :  Se presentó el nuevo Ford Evos, el sucesor del Mondeo - Parabrisas\n",
      "Link :  https://news.google.com/__i/rss/rd/articles/CBMifGh0dHBzOi8vcGFyYWJyaXNhcy5wZXJmaWwuY29tL25vdGljaWFzL25vdmVkYWRlcy9mb3JkLWV2b3Mtc3VjZXNvci1tb25kZW8tcHJlc2VudGFjaW9uLXN1di1zZWRhbi1jb3VwZS1jcm9zc292ZXItY2hpbmEucGh0bWzSAYABaHR0cHM6Ly9wYXJhYnJpc2FzLnBlcmZpbC5jb20vbm90aWNpYXMvYW1wL25vdmVkYWRlcy9mb3JkLWV2b3Mtc3VjZXNvci1tb25kZW8tcHJlc2VudGFjaW9uLXN1di1zZWRhbi1jb3VwZS1jcm9zc292ZXItY2hpbmEucGh0bWw?oc=5\n",
      "\n",
      "Title :  Nuevo SUV coupé de Fiat: base de Argo, competirá en precio con T-Cross - Parabrisas\n",
      "Link :  https://news.google.com/__i/rss/rd/articles/CBMifGh0dHBzOi8vcGFyYWJyaXNhcy5wZXJmaWwuY29tL25vdGljaWFzL25vdmVkYWRlcy9maWF0LXN1di1jb3VwZS1iYXNlLWFyZ28tcHJlY2lvLXZvbGtzd2FnZW4tdC1jcm9zcy1uaXZ1cy0zNzYtcHJveWVjdG8ucGh0bWzSAYABaHR0cHM6Ly9wYXJhYnJpc2FzLnBlcmZpbC5jb20vbm90aWNpYXMvYW1wL25vdmVkYWRlcy9maWF0LXN1di1jb3VwZS1iYXNlLWFyZ28tcHJlY2lvLXZvbGtzd2FnZW4tdC1jcm9zcy1uaXZ1cy0zNzYtcHJveWVjdG8ucGh0bWw?oc=5\n",
      "\n"
     ]
    }
   ],
   "source": [
    "from gnewsclient import gnewsclient\n",
    "\n",
    "# correr a la mañana, 9AM ejemplo, la siguiente sección...\n",
    "client = gnewsclient.NewsClient(language='spanish',\n",
    "\t\t\t\t\t\t\t\tlocation='argentina',\n",
    "\t\t\t\t\t\t\t\ttopic='business',\n",
    "\t\t\t\t\t\t\t\tmax_results=10)\n",
    "\n",
    "news_listbusiness = client.get_news()\n",
    "\n",
    "for item in news_listbusiness:\n",
    "\tprint(\"Title : \", item['title'])\n",
    "\tprint(\"Link : \", item['link'])\n",
    "\tprint(\"\")"
   ]
  },
  {
   "cell_type": "code",
   "execution_count": 18,
   "metadata": {},
   "outputs": [],
   "source": [
    "dfbusiness1 = pd.DataFrame(news_listbusiness)"
   ]
  },
  {
   "cell_type": "code",
   "execution_count": 11,
   "metadata": {},
   "outputs": [
    {
     "name": "stdout",
     "output_type": "stream",
     "text": [
      "Title :  El derrumbe del Bitcoin, que comenzó a recuperarse anoche, develó un mercado altamente especulativo en la Argentina - infobae\n",
      "Link :  https://news.google.com/__i/rss/rd/articles/CBMingFodHRwczovL3d3dy5pbmZvYmFlLmNvbS9lY29ub21pYS8yMDIxLzA0LzE5L2VsLWRlcnJ1bWJlLWRlbC1iaXRjb2luLXF1ZS1jb21lbnpvLWEtcmVjdXBlcmFyc2UtYW5vY2hlLWRldmVsby11bi1tZXJjYWRvLWFsdGFtZW50ZS1lc3BlY3VsYXRpdm8tZW4tbGEtYXJnZW50aW5hL9IBAA?oc=5\n",
      "\n",
      "Title :  Fuga de cerebros, ahora por internet - Página 12\n",
      "Link :  https://news.google.com/__i/rss/rd/articles/CBMiRmh0dHBzOi8vd3d3LnBhZ2luYTEyLmNvbS5hci8zMzY0MDUtZnVnYS1kZS1jZXJlYnJvcy1haG9yYS1wb3ItaW50ZXJuZXTSAUZodHRwczovL3d3dy5wYWdpbmExMi5jb20uYXIvMzM2NDA1LWZ1Z2EtZGUtY2VyZWJyb3MtYWhvcmEtcG9yLWludGVybmV0?oc=5\n",
      "\n",
      "Title :  Día negro para el bitcoin: tuvo una caída de más de 10% y arrastró al resto de las criptomonedas - infobae\n",
      "Link :  https://news.google.com/__i/rss/rd/articles/CBMikwFodHRwczovL3d3dy5pbmZvYmFlLmNvbS9lY29ub21pYS8yMDIxLzA0LzE4L2RpYS1uZWdyby1wYXJhLWVsLWJpdGNvaW4tcG9yLXF1ZS10dXZvLXVuYS1jYWlkYS1kZS1tYXMtZGUtMTAteS1hcnJhc3Ryby1hbC1yZXN0by1kZS1sYXMtY3JpcHRvbW9uZWRhcy_SAQA?oc=5\n",
      "\n",
      "Title :  La NASA hará volar el helicóptero Ingenuity en Marte mañana a la madrugada - infobae\n",
      "Link :  https://news.google.com/__i/rss/rd/articles/CBMiiQFodHRwczovL3d3dy5pbmZvYmFlLmNvbS9hbWVyaWNhL3RlbmRlbmNpYXMtYW1lcmljYS8yMDIxLzA0LzE4L2xhLW5hc2EtaGFyYS12b2xhci1lbC1oZWxpY29wdGVyby1pbmdlbnVpdHktZW4tbWFydGUtbWFuYW5hLWEtbGEtbWFkcnVnYWRhL9IBAA?oc=5\n",
      "\n",
      "Title :  Whatsapp: tips paso a paso para que la memoria no se llene - La Capital (Rosario)\n",
      "Link :  https://news.google.com/__i/rss/rd/articles/CBMicWh0dHBzOi8vd3d3LmxhY2FwaXRhbC5jb20uYXIvaW5mb3JtYWNpb24tZ2VuZXJhbC93aGF0c2FwcC10aXBzLXBhc28tcGFzby1xdWUtbGEtbWVtb3JpYS1uby1zZS1sbGVuZS1uMjY1NDQzNi5odG1s0gF1aHR0cHM6Ly93d3cubGFjYXBpdGFsLmNvbS5hci9pbmZvcm1hY2lvbi1nZW5lcmFsL3doYXRzYXBwLXRpcHMtcGFzby1wYXNvLXF1ZS1sYS1tZW1vcmlhLW5vLXNlLWxsZW5lLW4yNjU0NDM2Lmh0bWwvYW1w?oc=5\n",
      "\n",
      "Title :  A los 83 años, murió el fundador de Adobe, creador de programas como PDF, Photoshop, Acrobat e Illustrator - infobae\n",
      "Link :  https://news.google.com/__i/rss/rd/articles/CBMilQFodHRwczovL3d3dy5pbmZvYmFlLmNvbS9lY29ub21pYS8yMDIxLzA0LzE4L2EtbG9zLTgzLWFub3MtbXVyaW8tZWwtZnVuZGFkb3ItZGUtYWRvYmUteS1jcmVhZG9yLWRlLXByb2dyYW1hcy1jb21vLXBkZi1waG90b3Nob3AtYWNyb2JhdC1lLWlsbHVzdHJhdG9yL9IBAA?oc=5\n",
      "\n",
      "Title :  La próxima superpotencia cripto - ámbito.com\n",
      "Link :  https://news.google.com/__i/rss/rd/articles/CBMiV2h0dHBzOi8vd3d3LmFtYml0by5jb20vb3BpbmlvbmVzL2NyaXB0b21vbmVkYXMvbGEtcHJveGltYS1zdXBlcnBvdGVuY2lhLWNyaXB0by1uNTE4NTE0NNIBAA?oc=5\n",
      "\n",
      "Title :  Efecto Bitcoin: ¿Qué sociedad nos espera en el futuro? - ámbito.com\n",
      "Link :  https://news.google.com/__i/rss/rd/articles/CBMiWmh0dHBzOi8vd3d3LmFtYml0by5jb20vb3BpbmlvbmVzL2JpdGNvaW4vZWZlY3RvLXF1ZS1zb2NpZWRhZC1ub3MtZXNwZXJhLWVsLWZ1dHVyby1uNTE4NTQ3OdIBAA?oc=5\n",
      "\n",
      "Title :  Condenaron a una pareja que extraía dinero de cajeros con uso de software | Sucesos - La Voz del Interior\n",
      "Link :  https://news.google.com/__i/rss/rd/articles/CBMid2h0dHBzOi8vd3d3Lmxhdm96LmNvbS5hci9zdWNlc29zL2NvbmRlbmFyb24tYS1wYXJlamEtZGUtdmVuZXpvbGFub3MtcXVlLWV4dHJhaWFuLWRpbmVyby1kZS1jYWplcm9zLWNvbi11c28tZGUtc29mdHdhcmUv0gEA?oc=5\n",
      "\n",
      "Title :  Alertan sobre vulnerabilidades en WhatsApp y WhatsApp Business que comprometen datos personales - La Voz del Interior\n",
      "Link :  https://news.google.com/__i/rss/rd/articles/CBMihAFodHRwczovL3d3dy5sYXZvei5jb20uYXIvdGVjbm9sb2dpYS9hbGVydGFuLXNvYnJlLXZ1bG5lcmFiaWxpZGFkZXMtZW4td2hhdHNhcHAteS13aGF0c2FwcC1idXNpbmVzcy1xdWUtY29tcHJvbWV0ZW4tZGF0b3MtcGVyc29uYWxlcy_SAZMBaHR0cHM6Ly93d3cubGF2b3ouY29tLmFyL3RlY25vbG9naWEvYWxlcnRhbi1zb2JyZS12dWxuZXJhYmlsaWRhZGVzLWVuLXdoYXRzYXBwLXktd2hhdHNhcHAtYnVzaW5lc3MtcXVlLWNvbXByb21ldGVuLWRhdG9zLXBlcnNvbmFsZXMvP291dHB1dFR5cGU9YW1w?oc=5\n",
      "\n"
     ]
    }
   ],
   "source": [
    "from gnewsclient import gnewsclient\n",
    "\n",
    "# correr a la mañana, 9AM ejemplo, la siguiente sección...\n",
    "client = gnewsclient.NewsClient(language='spanish',\n",
    "\t\t\t\t\t\t\t\tlocation='argentina',\n",
    "\t\t\t\t\t\t\t\ttopic='technology',\n",
    "\t\t\t\t\t\t\t\tmax_results=10)\n",
    "\n",
    "news_listtech = client.get_news()\n",
    "\n",
    "for item in news_listtech:\n",
    "\tprint(\"Title : \", item['title'])\n",
    "\tprint(\"Link : \", item['link'])\n",
    "\tprint(\"\")"
   ]
  },
  {
   "cell_type": "code",
   "execution_count": 19,
   "metadata": {},
   "outputs": [],
   "source": [
    "dfbusiness1 = pd.DataFrame(news_listbusiness)"
   ]
  },
  {
   "cell_type": "code",
   "execution_count": 12,
   "metadata": {},
   "outputs": [
    {
     "name": "stdout",
     "output_type": "stream",
     "text": [
      "Title :  Uno de los participantes más queridos fue eliminado de Masterchef Celebrity 2 y Santiago Del Moro hizo un sorpresivo anuncio - infobae\n",
      "Link :  https://news.google.com/__i/rss/rd/articles/CBMisgFodHRwczovL3d3dy5pbmZvYmFlLmNvbS90ZWxlc2hvdy9pbmZvc2hvdy8yMDIxLzA0LzE5L3Vuby1kZS1sb3MtcGFydGljaXBhbnRlcy1tYXMtcXVlcmlkb3MtZnVlLWVsaW1pbmFkby1kZS1tYXN0ZXJjaGVmLWNlbGVicml0eS0yLXktc2FudGlhZ28tZGVsLW1vcm8taGl6by11bi1zb3JwcmVzaXZvLWFudW5jaW8v0gEA?oc=5\n",
      "\n",
      "Title :  “Mare of Easttown”, con Kate Winslet: una dama recia y compasiva - Página 12\n",
      "Link :  https://news.google.com/__i/rss/rd/articles/CBMiX2h0dHBzOi8vd3d3LnBhZ2luYTEyLmNvbS5hci8zMzY0MTktbWFyZS1vZi1lYXN0dG93bi1jb24ta2F0ZS13aW5zbGV0LXVuYS1kYW1hLXJlY2lhLXktY29tcGFzaXZh0gFfaHR0cHM6Ly93d3cucGFnaW5hMTIuY29tLmFyLzMzNjQxOS1tYXJlLW9mLWVhc3R0b3duLWNvbi1rYXRlLXdpbnNsZXQtdW5hLWRhbWEtcmVjaWEteS1jb21wYXNpdmE?oc=5\n",
      "\n",
      "Title :  El osado look de Juana Viale: “Tengo las piernas de Tina Turner y el pelo de Ariana Grande” - LA NACION\n",
      "Link :  https://news.google.com/__i/rss/rd/articles/CBMimQFodHRwczovL3d3dy5sYW5hY2lvbi5jb20uYXIvZXNwZWN0YWN1bG9zL3BlcnNvbmFqZXMvZWwtb3NhZG8tbG9vay1kZS1qdWFuYS12aWFsZS10ZW5nby1sYXMtcGllcm5hcy1kZS10aW5hLXR1cm5lci15LWVsLXBlbG8tZGUtYXJpYW5hLWdyYW5kZS1uaWQxODA0MjAyMS_SAQA?oc=5\n",
      "\n",
      "Title :  Las Matas: la misteriosa propiedad de Luisito Rey que fue clave en la desaparición de Marcela Basteri - infobae\n",
      "Link :  https://news.google.com/__i/rss/rd/articles/CBMioAFodHRwczovL3d3dy5pbmZvYmFlLmNvbS9hbWVyaWNhL2VudHJldGVuaW1pZW50by8yMDIxLzA0LzE5L2xhcy1tYXRhcy1sYS1taXN0ZXJpb3NhLXByb3BpZWRhZC1kZS1sdWlzaXRvLXJleS1xdWUtZnVlLWNsYXZlLWVuLWxhLWRlc2FwYXJpY2lvbi1kZS1tYXJjZWxhLWJhc3Rlcmkv0gEA?oc=5\n",
      "\n",
      "Title :  La consagración mediática de Kate Middleton en el funeral de Felipe de Edimburgo - Perfil.com\n",
      "Link :  https://news.google.com/__i/rss/rd/articles/CBMicGh0dHBzOi8vd3d3LnBlcmZpbC5jb20vbm90aWNpYXMvcHJvdGFnb25pc3Rhcy9rYXRlLW1pZGRsZXRvbi1vcGFjby1wcmluY2lwZS1oYXJyeS1mdW5lcmFsLWZlbGlwZS1lZGltYnVyZ28ucGh0bWzSAQA?oc=5\n",
      "\n",
      "Title :  Horóscopo de Aries hoy, lunes 19 de abril de 2021 - TN - Todo Noticias\n",
      "Link :  https://news.google.com/__i/rss/rd/articles/CBMiV2h0dHBzOi8vdG4uY29tLmFyL3NvY2llZGFkLzIwMjEvMDQvMTkvaG9yb3Njb3BvLWRlLWFyaWVzLWhveS1sdW5lcy0xOS1kZS1hYnJpbC1kZS0yMDIxL9IBAA?oc=5\n",
      "\n",
      "Title :  Los mensajes de agradecimiento por el recital del Indio Solari y los Fundamentalistas inundaron las redes - Minutouno.com\n",
      "Link :  https://news.google.com/__i/rss/rd/articles/CBMijgFodHRwczovL3d3dy5taW51dG91bm8uY29tL3NvY2llZGFkL2luZGlvLXNvbGFyaS9sb3MtbWVuc2FqZXMtYWdyYWRlY2ltaWVudG8tZWwtcmVjaXRhbC1kZWwteS1sb3MtZnVuZGFtZW50YWxpc3Rhcy1pbnVuZGFyb24tbGFzLXJlZGVzLW41MTg1NDQw0gGOAWh0dHBzOi8vd3d3Lm1pbnV0b3Vuby5jb20vc29jaWVkYWQvaW5kaW8tc29sYXJpL2xvcy1tZW5zYWplcy1hZ3JhZGVjaW1pZW50by1lbC1yZWNpdGFsLWRlbC15LWxvcy1mdW5kYW1lbnRhbGlzdGFzLWludW5kYXJvbi1sYXMtcmVkZXMtbjUxODU0NDA?oc=5\n",
      "\n",
      "Title :  Natalie Weber explotó contra los haters que la critican en las redes sociales: \"Me dicen cheta,... - Ciudad Magazine\n",
      "Link :  https://news.google.com/__i/rss/rd/articles/CBMifGh0dHBzOi8vd3d3LmNpdWRhZC5jb20uYXIvZXNwZWN0YWN1bG9zL25hdGFsaWUtd2ViZXItZXhwbG90by1jb250cmEtaGF0ZXJzLWNyaXRpY2FuLWxhcy1yZWRlcy1zb2NpYWxlcy1tZS1kaWNlbi1jaGV0YV8xNjYyNDTSAYABaHR0cHM6Ly93d3cuY2l1ZGFkLmNvbS5hci9lc3BlY3RhY3Vsb3MvbmF0YWxpZS13ZWJlci1leHBsb3RvLWNvbnRyYS1oYXRlcnMtY3JpdGljYW4tbGFzLXJlZGVzLXNvY2lhbGVzLW1lLWRpY2VuLWNoZXRhXzE2NjI0ND9hbXA?oc=5\n",
      "\n",
      "Title :  Así fue el regreso de Luis Novaresio a la televisión con una versión totalmente renovada de Debo Decir - infobae\n",
      "Link :  https://news.google.com/__i/rss/rd/articles/CBMinAFodHRwczovL3d3dy5pbmZvYmFlLmNvbS90ZWxlc2hvdy9pbmZvc2hvdy8yMDIxLzA0LzE5L2FzaS1mdWUtZWwtcmVncmVzby1kZS1sdWlzLW5vdmFyZXNpby1hLWxhLXRlbGV2aXNpb24tY29uLXVuYS12ZXJzaW9uLXRvdGFsbWVudGUtcmVub3ZhZGEtZGUtZGViby1kZWNpci_SAQA?oc=5\n",
      "\n",
      "Title :  Claudia Villafañe hizo un vivo junto a Dalma Maradona tras recibir el alta por COVID-19: “Perdí el olfato y el - El Trece\n",
      "Link :  https://news.google.com/__i/rss/rd/articles/CBMihAFodHRwczovL3d3dy5lbHRyZWNldHYuY29tLmFyL25vdGljaWFzL2NsYXVkaWEtdmlsbGFmYW5lLWhpem8tdW4tdml2by1qdW50by1hLWRhbG1hLW1hcmFkb25hLXRyYXMtcmVjaWJpci1lbC1hbHRhLXBvci1jb3ZpZC0xOV8xNDg2OTPSAYQBaHR0cHM6Ly9hbXAuZWx0cmVjZXR2LmNvbS5hci9ub3RpY2lhcy9jbGF1ZGlhLXZpbGxhZmFuZS1oaXpvLXVuLXZpdm8tanVudG8tYS1kYWxtYS1tYXJhZG9uYS10cmFzLXJlY2liaXItZWwtYWx0YS1wb3ItY292aWQtMTlfMTQ4Njkz?oc=5\n",
      "\n"
     ]
    }
   ],
   "source": [
    "from gnewsclient import gnewsclient\n",
    "\n",
    "# correr a la mañana, 9AM ejemplo, la siguiente sección...\n",
    "client = gnewsclient.NewsClient(language='spanish',\n",
    "\t\t\t\t\t\t\t\tlocation='argentina',\n",
    "\t\t\t\t\t\t\t\ttopic='entertainment',\n",
    "\t\t\t\t\t\t\t\tmax_results=10)\n",
    "\n",
    "news_listenter = client.get_news()\n",
    "\n",
    "for item in news_listenter:\n",
    "\tprint(\"Title : \", item['title'])\n",
    "\tprint(\"Link : \", item['link'])\n",
    "\tprint(\"\")"
   ]
  },
  {
   "cell_type": "code",
   "execution_count": 13,
   "metadata": {},
   "outputs": [
    {
     "name": "stdout",
     "output_type": "stream",
     "text": [
      "Title :  \"No creo en que los ricos roben lo que el pueblo creó\" - Olé\n",
      "Link :  https://news.google.com/__i/rss/rd/articles/CBMiaGh0dHBzOi8vd3d3Lm9sZS5jb20uYXIvZnV0Ym9sLWludGVybmFjaW9uYWwvZnJhbmNpYS9hbmRlci1oZXJyZXJhLXBzZy1zdXBlcmxpZ2EtZXVyb3BlYV8wX2QyZERQN3ZBbS5odG1s0gFsaHR0cHM6Ly93d3cub2xlLmNvbS5hci9mdXRib2wtaW50ZXJuYWNpb25hbC9mcmFuY2lhL2FuZGVyLWhlcnJlcmEtcHNnLXN1cGVybGlnYS1ldXJvcGVhXzBfZDJkRFA3dkFtLmFtcC5odG1s?oc=5\n",
      "\n",
      "Title :  Borussia Dortmund no apoya la creación de la Superliga europea y asegura que el Bayern Munich tampoco lo hará - infobae\n",
      "Link :  https://news.google.com/__i/rss/rd/articles/CBMiogFodHRwczovL3d3dy5pbmZvYmFlLmNvbS9hbWVyaWNhL2RlcG9ydGVzLzIwMjEvMDQvMTkvYm9ydXNzaWEtZG9ydG11bmQtbm8tYXBveWEtbGEtY3JlYWNpb24tZGUtbGEtc3VwZXJsaWdhLWV1cm9wZWEteS1hc2VndXJhLXF1ZS1lbC1iYXllcm4tbXVuaWNoLXRhbXBvY28tbG8taGFyYS_SAQA?oc=5\n",
      "\n",
      "Title :  Tottenham Hotspur despidió a Mourinho: los motivos - TyC Sports\n",
      "Link :  https://news.google.com/__i/rss/rd/articles/CBMicGh0dHBzOi8vd3d3LnR5Y3Nwb3J0cy5jb20vcHJlbWllci1sZWFndWUvaW5nbGF0ZXJyYS1wcmVtaWVyLWxlYWd1ZS10b3R0ZW5oYW0taG90c3B1ci1qb3NlLW1vdXJpbmhvLWlkMzM2MjU0Lmh0bWzSAXRodHRwczovL3d3dy50eWNzcG9ydHMuY29tL2FtcC9wcmVtaWVyLWxlYWd1ZS9pbmdsYXRlcnJhLXByZW1pZXItbGVhZ3VlLXRvdHRlbmhhbS1ob3RzcHVyLWpvc2UtbW91cmluaG8taWQzMzYyNTQuaHRtbA?oc=5\n",
      "\n",
      "Title :  Alerta en la Selección: los jugadores que se perderían el Mundial por la Superliga - ámbito.com\n",
      "Link :  https://news.google.com/__i/rss/rd/articles/CBMic2h0dHBzOi8vd3d3LmFtYml0by5jb20vZGVwb3J0ZXMvc2VsZWNjaW9uL2FsZXJ0YS1sYS1sb3MtanVnYWRvcmVzLXF1ZS1zZS1wZXJkZXJpYW4tZWwtbXVuZGlhbC1sYS1zdXBlcmxpZ2EtbjUxODU2MDLSAQA?oc=5\n",
      "\n",
      "Title :  El espectacular invicto de River en Brasil por Libertadores - TyC Sports\n",
      "Link :  https://news.google.com/__i/rss/rd/articles/CBMiWmh0dHBzOi8vd3d3LnR5Y3Nwb3J0cy5jb20vcml2ZXItcGxhdGUvcml2ZXItY29wYS1saWJlcnRhZG9yZXMtaW52aWN0by1icmFzaWwtaWQzMzU2MDQuaHRtbNIBXmh0dHBzOi8vd3d3LnR5Y3Nwb3J0cy5jb20vYW1wL3JpdmVyLXBsYXRlL3JpdmVyLWNvcGEtbGliZXJ0YWRvcmVzLWludmljdG8tYnJhc2lsLWlkMzM1NjA0Lmh0bWw?oc=5\n",
      "\n",
      "Title :  Liga de España: con doblete de Correa, goleó Atlético Madrid - Página 12\n",
      "Link :  https://news.google.com/__i/rss/rd/articles/CBMiXWh0dHBzOi8vd3d3LnBhZ2luYTEyLmNvbS5hci8zMzY0MzYtbGlnYS1kZS1lc3BhbmEtY29uLWRvYmxldGUtZGUtY29ycmVhLWdvbGVvLWF0bGV0aWNvLW1hZHJpZNIBXWh0dHBzOi8vd3d3LnBhZ2luYTEyLmNvbS5hci8zMzY0MzYtbGlnYS1kZS1lc3BhbmEtY29uLWRvYmxldGUtZGUtY29ycmVhLWdvbGVvLWF0bGV0aWNvLW1hZHJpZA?oc=5\n",
      "\n",
      "Title :  Estudiantes - Gimnasia: hora, formaciones y por dónde verlo - Olé\n",
      "Link :  https://news.google.com/__i/rss/rd/articles/CBMiX2h0dHBzOi8vd3d3Lm9sZS5jb20uYXIvZnV0Ym9sLXByaW1lcmEvZXN0dWRpYW50ZXMtZ2ltbmFzaWEtZm9ybWFjaW9uZXMtaG9yYS10dl8wX2FfX0pibHo4US5odG1s0gFjaHR0cHM6Ly93d3cub2xlLmNvbS5hci9mdXRib2wtcHJpbWVyYS9lc3R1ZGlhbnRlcy1naW1uYXNpYS1mb3JtYWNpb25lcy1ob3JhLXR2XzBfYV9fSmJsejhRLmFtcC5odG1s?oc=5\n",
      "\n",
      "Title :  Tras el título de Barcelona, Joan Laporta dejó una definición sobre el futuro de Lionel Messi: \"Estoy conve... - TNT Sports Argentina\n",
      "Link :  https://news.google.com/__i/rss/rd/articles/CBMivgFodHRwczovL3RudHNwb3J0cy5jb20uYXIvaW50ZXJuYWNpb25hbC9UcmFzLWVsLXRpdHVsby1kZS1CYXJjZWxvbmEtSm9hbi1MYXBvcnRhLWRlam8tdW5hLWRlZmluaWNpb24tc29icmUtZWwtZnV0dXJvLWRlLUxpb25lbC1NZXNzaS1Fc3RveS1jb252ZW5jaWRvLWRlLXF1ZS1xdWllcmUtcXVlZGFyc2UtMjAyMTA0MTgtMDAwNS5odG1s0gHCAWh0dHBzOi8vdG50c3BvcnRzLmNvbS5hci9hbXAvaW50ZXJuYWNpb25hbC9UcmFzLWVsLXRpdHVsby1kZS1CYXJjZWxvbmEtSm9hbi1MYXBvcnRhLWRlam8tdW5hLWRlZmluaWNpb24tc29icmUtZWwtZnV0dXJvLWRlLUxpb25lbC1NZXNzaS1Fc3RveS1jb252ZW5jaWRvLWRlLXF1ZS1xdWllcmUtcXVlZGFyc2UtMjAyMTA0MTgtMDAwNS5odG1s?oc=5\n",
      "\n",
      "Title :  El éxito de Bielsa en Leeds y la grieta que no descansa ni un sábado a las 8 de la mañana - Clarín\n",
      "Link :  https://news.google.com/__i/rss/rd/articles/CBMiY2h0dHBzOi8vd3d3LmNsYXJpbi5jb20vZGVwb3J0ZXMvZXhpdG8tYmllbHNhLWxlZWRzLWdyaWV0YS1kZXNjYW5zYS1zYWJhZG8tOC1tYW5hbmFfMF9SZHE2dEZ1Q2UuaHRtbNIBAA?oc=5\n",
      "\n",
      "Title :  Verstappen gana el GP de Emilia Romagna en remontada de Hamilton - Motorsport.com Latinoamérica\n",
      "Link :  https://news.google.com/__i/rss/rd/articles/CBMiXWh0dHBzOi8vbGF0Lm1vdG9yc3BvcnQuY29tL2YxL25ld3MvdmVyc3RhcHBlbi1nYW5hLWVtaWxpYS1yb21hZ25hLXJlbW9udGFkYS1oYW1pbHRvbi82MzI5NTE2L9IBYWh0dHBzOi8vbGF0Lm1vdG9yc3BvcnQuY29tL2YxL25ld3MvdmVyc3RhcHBlbi1nYW5hLWVtaWxpYS1yb21hZ25hLXJlbW9udGFkYS1oYW1pbHRvbi82MzI5NTE2L2FtcC8?oc=5\n",
      "\n"
     ]
    }
   ],
   "source": [
    "from gnewsclient import gnewsclient\n",
    "\n",
    "# correr a la mañana, 9AM ejemplo, la siguiente sección...\n",
    "client = gnewsclient.NewsClient(language='spanish',\n",
    "\t\t\t\t\t\t\t\tlocation='argentina',\n",
    "\t\t\t\t\t\t\t\ttopic='sports',\n",
    "\t\t\t\t\t\t\t\tmax_results=10)\n",
    "\n",
    "news_listsports = client.get_news()\n",
    "\n",
    "for item in news_listsports:\n",
    "\tprint(\"Title : \", item['title'])\n",
    "\tprint(\"Link : \", item['link'])\n",
    "\tprint(\"\")"
   ]
  },
  {
   "cell_type": "code",
   "execution_count": 15,
   "metadata": {},
   "outputs": [
    {
     "name": "stdout",
     "output_type": "stream",
     "text": [
      "Title :  Histórico: el helicóptero Ingenuity de la NASA realizó su primer vuelo en Marte - infobae\n",
      "Link :  https://news.google.com/__i/rss/rd/articles/CBMiigFodHRwczovL3d3dy5pbmZvYmFlLmNvbS9hbWVyaWNhL2NpZW5jaWEtYW1lcmljYS8yMDIxLzA0LzE5L2hpc3Rvcmljby1lbC1oZWxpY29wdGVyby1pbmdlbnVpdHktZGUtbGEtbmFzYS1yZWFsaXpvLXN1LXByaW1lci12dWVsby1lbi1tYXJ0ZS_SAQA?oc=5\n",
      "\n",
      "Title :  La trama científica de la usina de investigación en tratamientos contra el COVID-19 más grande de América Latina - infobae\n",
      "Link :  https://news.google.com/__i/rss/rd/articles/CBMirAFodHRwczovL3d3dy5pbmZvYmFlLmNvbS9hbWVyaWNhL2NpZW5jaWEtYW1lcmljYS8yMDIxLzA0LzE4L2xhLXRyYW1hLWNpZW50aWZpY2EtZGUtbGEtdXNpbmEtZGUtaW52ZXN0aWdhY2lvbi1lbi10cmF0YW1pZW50b3MtY29udHJhLWVsLWNvdmlkLTE5LW1hcy1ncmFuZGUtZGUtYW1lcmljYS1sYXRpbmEv0gEA?oc=5\n",
      "\n",
      "Title :  Un embrión de rata, neuronas cultivadas y escamas de alas de mariposas: las alucinantes fotos ganadoras del Premio Olympus 2020 - infobae\n",
      "Link :  https://news.google.com/__i/rss/rd/articles/CBMipwFodHRwczovL3d3dy5pbmZvYmFlLmNvbS9mb3Rvcy8yMDIxLzA0LzE4L3VuLWVtYnJpb24tZGUtcmF0YS1uZXVyb25hcy1jdWx0aXZhZGFzLXktZXNjYW1hcy1kZS1hbGFzLWRlLW1hcmlwb3Nhcy1sYXMtYWx1Y2luYW50ZXMtZm90b3MtZ2FuYWRvcmFzLWRlbC1wcmVtaW8tb2x5bXB1cy0yMDIwL9IBAA?oc=5\n",
      "\n",
      "Title :  Las 10 razones científicas que avalan la transmisión del coronavirus por aire - infobae\n",
      "Link :  https://news.google.com/__i/rss/rd/articles/CBMiiQFodHRwczovL3d3dy5pbmZvYmFlLmNvbS9hbWVyaWNhL2NpZW5jaWEtYW1lcmljYS8yMDIxLzA0LzE4L2xhcy0xMC1yYXpvbmVzLWNpZW50aWZpY2FzLXF1ZS1hdmFsYW4tbGEtdHJhbnNtaXNpb24tZGVsLWNvcm9uYXZpcnVzLXBvci1haXJlL9IBAA?oc=5\n",
      "\n",
      "Title :  El pico de contagios de la segunda ola: la proyección de un matemático argentino - Diario El Dia\n",
      "Link :  https://news.google.com/__i/rss/rd/articles/CBMikAFodHRwczovL3d3dy5lbGRpYS5jb20vbm90YS8yMDIxLTQtMTgtMTUtMzAtMC1lbC1waWNvLWRlLWNvbnRhZ2lvcy1kZS1sYS1zZWd1bmRhLW9sYS1sYS1wcm95ZWNjaW9uLWRlLXVuLW1hdGVtYXRpY28tYXJnZW50aW5vLWluZm9ybWFjaW9uLWdlbmVyYWzSAQA?oc=5\n",
      "\n",
      "Title :  Acertijo con figuras geométricas: ¿a qué número equivale el triángulo? - LA NACION\n",
      "Link :  https://news.google.com/__i/rss/rd/articles/CBMidWh0dHBzOi8vd3d3LmxhbmFjaW9uLmNvbS5hci9saWZlc3R5bGUvYWNlcnRpam8tY29uLWZvcm1hcy1nZW9tZXRyaWNhcy1hLXF1ZS1udW1lcm8tZXF1aXZhbGUtZWwtdHJpYW5ndWxvLW5pZDE3MDQyMDIxL9IBAA?oc=5\n",
      "\n",
      "Title :  ¡A mirar el cielo! La Estación Internacional se podrá disfrutar a simple vista en Mendoza - Diario El Sol Mendoza\n",
      "Link :  https://news.google.com/__i/rss/rd/articles/CBMieGh0dHBzOi8vd3d3LmVsc29sLmNvbS5hci9tZW5kb3phL2EtbWlyYXItZWwtY2llbG8tbGEtZXN0YWNpb24taW50ZXJuYWNpb25hbC1zZS1wb2RyYS1kaXNmcnV0YXItYS1zaW1wbGUtdmlzdGEtZW4tbWVuZG96YdIBfGh0dHBzOi8vd3d3LmVsc29sLmNvbS5hci9tZW5kb3phL2EtbWlyYXItZWwtY2llbG8tbGEtZXN0YWNpb24taW50ZXJuYWNpb25hbC1zZS1wb2RyYS1kaXNmcnV0YXItYS1zaW1wbGUtdmlzdGEtZW4tbWVuZG96YS9hbXA?oc=5\n",
      "\n",
      "Title :  Nueva supertierra orbitando muy cerca de una estrella fría - La Voz del Interior\n",
      "Link :  https://news.google.com/__i/rss/rd/articles/CBMiZ2h0dHBzOi8vd3d3Lmxhdm96LmNvbS5hci9jaXVkYWRhbm9zL2NpZW5jaWEvbnVldmEtc3VwZXJ0aWVycmEtb3JiaXRhbmRvLW11eS1jZXJjYS1kZS11bmEtZXN0cmVsbGEtZnJpYS_SAXZodHRwczovL3d3dy5sYXZvei5jb20uYXIvY2l1ZGFkYW5vcy9jaWVuY2lhL251ZXZhLXN1cGVydGllcnJhLW9yYml0YW5kby1tdXktY2VyY2EtZGUtdW5hLWVzdHJlbGxhLWZyaWEvP291dHB1dFR5cGU9YW1w?oc=5\n",
      "\n",
      "Title :  Matemático argentino proyectó cuándo será el pico de la segunda ola - MDZ Online\n",
      "Link :  https://news.google.com/__i/rss/rd/articles/CBMieGh0dHBzOi8vd3d3Lm1kem9sLmNvbS9zb2NpZWRhZC8yMDIxLzQvMTgvbWF0ZW1hdGljby1hcmdlbnRpbm8tcHJveWVjdG8tY3VhbmRvLXNlcmEtZWwtcGljby1kZS1sYS1zZWd1bmRhLW9sYS0xNTMwNDMuaHRtbNIBeGh0dHBzOi8vd3d3Lm1kem9sLmNvbS9zb2NpZWRhZC8yMDIxLzQvMTgvbWF0ZW1hdGljby1hcmdlbnRpbm8tcHJveWVjdG8tY3VhbmRvLXNlcmEtZWwtcGljby1kZS1sYS1zZWd1bmRhLW9sYS0xNTMwNDMuaHRtbA?oc=5\n",
      "\n",
      "Title :  El extraño fenómeno en un pueblo de Brasil relacionado con nazis - MDZ Online\n",
      "Link :  https://news.google.com/__i/rss/rd/articles/CBMicmh0dHBzOi8vd3d3Lm1kem9sLmNvbS9tdW5kby8yMDIxLzQvMTcvZWwtZXh0cmFuby1mZW5vbWVuby1lbi11bi1wdWVibG8tZGUtYnJhc2lsLXJlbGFjaW9uYWRvLWNvbi1uYXppcy0xNTI0NjguaHRtbNIBcmh0dHBzOi8vd3d3Lm1kem9sLmNvbS9tdW5kby8yMDIxLzQvMTcvZWwtZXh0cmFuby1mZW5vbWVuby1lbi11bi1wdWVibG8tZGUtYnJhc2lsLXJlbGFjaW9uYWRvLWNvbi1uYXppcy0xNTI0NjguaHRtbA?oc=5\n",
      "\n"
     ]
    }
   ],
   "source": [
    "from gnewsclient import gnewsclient\n",
    "\n",
    "# correr a la mañana, 9AM ejemplo, la siguiente sección...\n",
    "client = gnewsclient.NewsClient(language='spanish',\n",
    "\t\t\t\t\t\t\t\tlocation='argentina',\n",
    "\t\t\t\t\t\t\t\ttopic='science',\n",
    "\t\t\t\t\t\t\t\tmax_results=10)\n",
    "\n",
    "news_listscience = client.get_news()\n",
    "\n",
    "for item in news_listscience:\n",
    "\tprint(\"Title : \", item['title'])\n",
    "\tprint(\"Link : \", item['link'])\n",
    "\tprint(\"\")"
   ]
  },
  {
   "cell_type": "code",
   "execution_count": 16,
   "metadata": {},
   "outputs": [
    {
     "name": "stdout",
     "output_type": "stream",
     "text": [
      "Title :  La trama científica de la usina de investigación en tratamientos contra el COVID-19 más grande de América Latina - infobae\n",
      "Link :  https://news.google.com/__i/rss/rd/articles/CBMirAFodHRwczovL3d3dy5pbmZvYmFlLmNvbS9hbWVyaWNhL2NpZW5jaWEtYW1lcmljYS8yMDIxLzA0LzE4L2xhLXRyYW1hLWNpZW50aWZpY2EtZGUtbGEtdXNpbmEtZGUtaW52ZXN0aWdhY2lvbi1lbi10cmF0YW1pZW50b3MtY29udHJhLWVsLWNvdmlkLTE5LW1hcy1ncmFuZGUtZGUtYW1lcmljYS1sYXRpbmEv0gEA?oc=5\n",
      "\n",
      "Title :  \"Relajamiento\": Alberto Fernández aclaró que no se refería a los trabajadores de la salud - Minutouno.com\n",
      "Link :  https://news.google.com/__i/rss/rd/articles/CBMiiQFodHRwczovL3d3dy5taW51dG91bm8uY29tL3BvbGl0aWNhL3NlZ3VuZGEtb2xhL3JlbGFqYW1pZW50by1hbGJlcnRvLWZlcm5hbmRlei1hY2xhcm8tcXVlLW5vLXNlLXJlZmVyaWEtbG9zLXRyYWJhamFkb3Jlcy1sYS1zYWx1ZC1uNTE4NTM3MtIBiQFodHRwczovL3d3dy5taW51dG91bm8uY29tL3BvbGl0aWNhL3NlZ3VuZGEtb2xhL3JlbGFqYW1pZW50by1hbGJlcnRvLWZlcm5hbmRlei1hY2xhcm8tcXVlLW5vLXNlLXJlZmVyaWEtbG9zLXRyYWJhamFkb3Jlcy1sYS1zYWx1ZC1uNTE4NTM3Mg?oc=5\n",
      "\n",
      "Title :  Alarma por el número de militares venezolanos muertos de COVID-19 sin asistencia médica o en hospitales provisorios - infobae\n",
      "Link :  https://news.google.com/__i/rss/rd/articles/CBMiqAFodHRwczovL3d3dy5pbmZvYmFlLmNvbS9hbWVyaWNhL3ZlbmV6dWVsYS8yMDIxLzA0LzE5L2FsYXJtYS1wb3ItZWwtbnVtZXJvLWRlLW1pbGl0YXJlcy12ZW5lem9sYW5vLW11ZXJ0b3MtZGUtY292aWQtMTktc2luLWFzaXN0ZW5jaWEtbWVkaWNhLW8tZW4taG9zcGl0YWxlcy1wcm92aXNvcmlvcy_SAQA?oc=5\n",
      "\n",
      "Title :  Pausar el uso de la vacuna de Johnson & Johnson por otra semana fue un error mortal - infobae\n",
      "Link :  https://news.google.com/__i/rss/rd/articles/CBMiggFodHRwczovL3d3dy5pbmZvYmFlLmNvbS9hbWVyaWNhL3dhcG8vMjAyMS8wNC8xOC9wYXVzYXItZWwtdXNvLWRlLWxhLXZhY3VuYS1kZS1qb2huc29uLWpvaG5zb24tcG9yLW90cmEtc2VtYW5hLWZ1ZS11bi1lcnJvci1tb3J0YWwv0gEA?oc=5\n",
      "\n",
      "Title :  Los beneficios del ayuno: mejora las bondades de la dieta saludable - www.infosalus.com\n",
      "Link :  https://news.google.com/__i/rss/rd/articles/CBMib2h0dHBzOi8vd3d3LmluZm9zYWx1cy5jb20vZXN0ZXRpY2Evbm90aWNpYS1iZW5lZmljaW9zLWF5dW5vLW1lam9yYS1ib25kYWRlcy1kaWV0YS1zYWx1ZGFibGUtMjAyMTA0MDIwOTAzNDQuaHRtbNIBb2h0dHBzOi8vYW1wLmluZm9zYWx1cy5jb20vZXN0ZXRpY2Evbm90aWNpYS1iZW5lZmljaW9zLWF5dW5vLW1lam9yYS1ib25kYWRlcy1kaWV0YS1zYWx1ZGFibGUtMjAyMTA0MDIwOTAzNDQuaHRtbA?oc=5\n",
      "\n",
      "Title :  Momarandu Corrientes - Diario Digital - Momarandu.com\n",
      "Link :  https://news.google.com/__i/rss/rd/articles/CBMikwFodHRwOi8vd3d3Lm1vbWFyYW5kdS5jb20vbm90aXgvbm90aWNpYS8xODgyM191bmEtZGlldGEtc2FsdWRhYmxlLWFudGVzLWR1cmFudGUteS1kZXNwdXMtZGUtbGEtY292aWQtMTktZGVzZW1wZWEtdW5hLWZ1bmNpbi1lc2VuY2lhbC1lbi1sYS1zYWx1ZC5odG3SAQA?oc=5\n",
      "\n",
      "Title :  Una dieta saludable y ejercicio durante la infancia reducen la ansiedad en la edad adulta - www.infosalus.com\n",
      "Link :  https://news.google.com/__i/rss/rd/articles/CBMif2h0dHBzOi8vd3d3LmluZm9zYWx1cy5jb20vbnV0cmljaW9uL25vdGljaWEtZGlldGEtc2FsdWRhYmxlLWVqZXJjaWNpby1pbmZhbmNpYS1yZWR1Y2VuLWFuc2llZGFkLWVkYWQtYWR1bHRhLTIwMjEwNDA5MTQyOTUxLmh0bWzSAX9odHRwczovL2FtcC5pbmZvc2FsdXMuY29tL251dHJpY2lvbi9ub3RpY2lhLWRpZXRhLXNhbHVkYWJsZS1lamVyY2ljaW8taW5mYW5jaWEtcmVkdWNlbi1hbnNpZWRhZC1lZGFkLWFkdWx0YS0yMDIxMDQwOTE0Mjk1MS5odG1s?oc=5\n",
      "\n",
      "Title :  8 frutas y verduras con poder curativo para una dieta sana - Hola\n",
      "Link :  https://news.google.com/__i/rss/rd/articles/CBMiZ2h0dHBzOi8vd3d3LmhvbGEuY29tL2VzdGFyLWJpZW4vZ2FsZXJpYS8yMDIxMDIyMzE4NDgyMi9kaWV0YS1zYW5hLWZydXRhcy12ZXJkdXJhcy1jb24tcG9kZXItY3VyYXRpdm8vMS_SAXJodHRwczovL3d3dy5ob2xhLmNvbS9lc3Rhci1iaWVuL2dhbGVyaWEvMjAyMTAyMjMxODQ4MjIvZGlldGEtc2FuYS1mcnV0YXMtdmVyZHVyYXMtY29uLXBvZGVyLWN1cmF0aXZvLzEvP3ZpZXdhcz1hbXA?oc=5\n",
      "\n",
      "Title :  Grasa abdominal en las mujeres: qué hacer para evitarla y eliminarla - infobae\n",
      "Link :  https://news.google.com/__i/rss/rd/articles/CBMicmh0dHBzOi8vd3d3LmluZm9iYWUuY29tL3RlbmRlbmNpYXMvMjAyMS8wNC8xOS9ncmFzYS1hYmRvbWluYWwtZW4tbGFzLW11amVyZXMtcXVlLWhhY2VyLXBhcmEtZXZpdGFybGEteS1lbGltaW5hcmxhL9IBAA?oc=5\n",
      "\n",
      "Title :  Practica CrossFit sin necesidad de material: cinco ejercicios para ponerte en forma solo con el peso de tu... - Vitónica\n",
      "Link :  https://news.google.com/__i/rss/rd/articles/CBMigwFodHRwczovL3d3dy52aXRvbmljYS5jb20vZW50cmVuYW1pZW50by9wcmFjdGljYS1jcm9zc2ZpdC1uZWNlc2lkYWQtbWF0ZXJpYWwtY2luY28tZWplcmNpY2lvcy1wYXJhLXBvbmVydGUtZm9ybWEtc29sby1wZXNvLXR1LWN1ZXJwb9IBhwFodHRwczovL3d3dy52aXRvbmljYS5jb20vZW50cmVuYW1pZW50by9wcmFjdGljYS1jcm9zc2ZpdC1uZWNlc2lkYWQtbWF0ZXJpYWwtY2luY28tZWplcmNpY2lvcy1wYXJhLXBvbmVydGUtZm9ybWEtc29sby1wZXNvLXR1LWN1ZXJwby9hbXA?oc=5\n",
      "\n"
     ]
    }
   ],
   "source": [
    "from gnewsclient import gnewsclient\n",
    "\n",
    "# correr a la mañana, 9AM ejemplo, la siguiente sección...\n",
    "client = gnewsclient.NewsClient(language='spanish',\n",
    "\t\t\t\t\t\t\t\tlocation='argentina',\n",
    "\t\t\t\t\t\t\t\ttopic='health',\n",
    "\t\t\t\t\t\t\t\tmax_results=10)\n",
    "\n",
    "news_listhealth = client.get_news()\n",
    "\n",
    "for item in news_listhealth:\n",
    "\tprint(\"Title : \", item['title'])\n",
    "\tprint(\"Link : \", item['link'])\n",
    "\tprint(\"\")"
   ]
  },
  {
   "cell_type": "code",
   "execution_count": 20,
   "metadata": {},
   "outputs": [],
   "source": [
    "writer = pd.ExcelWriter(\"GoogleNews2021-1.xlsx\", engine='xlsxwriter', date_format = 'YYYY-MM-DD') #Genero Excel con el nombre definido en el path Output\n",
    "dfworld1.to_excel(writer, sheet_name='world1', index=False,encoding='latin1') #Exporto la Base GB en la primera hoja\n",
    "dfnation1.to_excel(writer, sheet_name='nation1', index=False,encoding='latin1')\n",
    "dfbusiness1.to_excel(writer, sheet_name='business1', index=False,encoding='latin1')\n",
    "writer.save() #generar otro excel sino lo pisa GoogleNews2021-2 que es el de la tarde. "
   ]
  },
  {
   "cell_type": "code",
   "execution_count": null,
   "metadata": {},
   "outputs": [],
   "source": []
  }
 ],
 "metadata": {
  "kernelspec": {
   "display_name": "Python 3",
   "language": "python",
   "name": "python3"
  },
  "language_info": {
   "codemirror_mode": {
    "name": "ipython",
    "version": 3
   },
   "file_extension": ".py",
   "mimetype": "text/x-python",
   "name": "python",
   "nbconvert_exporter": "python",
   "pygments_lexer": "ipython3",
   "version": "3.8.3"
  }
 },
 "nbformat": 4,
 "nbformat_minor": 4
}
